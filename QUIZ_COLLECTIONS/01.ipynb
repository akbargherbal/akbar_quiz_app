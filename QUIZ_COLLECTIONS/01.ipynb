{
 "cells": [
  {
   "cell_type": "code",
   "execution_count": 1,
   "id": "d8cbb6da",
   "metadata": {},
   "outputs": [],
   "source": [
    "#"
   ]
  },
  {
   "cell_type": "code",
   "execution_count": 2,
   "id": "cfcec1f9",
   "metadata": {},
   "outputs": [
    {
     "data": {
      "text/plain": [
       "{'Advanced Alpine.js with Django  HTMX',\n",
       " 'Advanced Django Models',\n",
       " 'Advanced Django Testing',\n",
       " 'Advanced Django Views',\n",
       " 'Advanced HTMX Patterns with Django',\n",
       " 'Alpine.js Fundamentals and Integration with Django/HTMX',\n",
       " 'Cloud Build and CI/CD',\n",
       " 'Cloud Run Storage Secrets',\n",
       " 'Django Authentication and Authorization',\n",
       " 'Django Authentication and Permissions',\n",
       " 'Django Cloud Run Deployment',\n",
       " 'Django Cloud SQL Connection',\n",
       " 'Django Form Testing',\n",
       " 'Django Forms',\n",
       " 'Django Forms: Validation',\n",
       " 'Django Fundamentals',\n",
       " 'Django HTMX Alpine.js Integration',\n",
       " 'Django Infrastructure and Configuration',\n",
       " 'Django Live Server Fixture',\n",
       " 'Django Model Testing with Pytest',\n",
       " 'Django Models',\n",
       " 'Django Models Admin Migrations',\n",
       " 'Django Project Configuration',\n",
       " 'Django Pytest Basics',\n",
       " 'Django Static File Management',\n",
       " 'Django Templates',\n",
       " 'Django Test Database Management',\n",
       " 'Django Testing Pitfall Avoidance',\n",
       " 'Django Testing Pyramid',\n",
       " 'Django View Testing',\n",
       " 'Django Views',\n",
       " 'GCP Django Deployment',\n",
       " 'GCP Logging Monitoring',\n",
       " 'Integrating HTMX with Django – The Basics',\n",
       " 'JavaScript & Frontend Development',\n",
       " 'Organizing Django Tests',\n",
       " 'Playwright Assertions',\n",
       " 'Playwright Dynamic Content and Waits',\n",
       " 'Playwright Locators',\n",
       " 'Playwright Page Interactions',\n",
       " 'Pytest Fixtures',\n",
       " 'Pytest Test Execution Control',\n",
       " 'Python Programming (General)',\n",
       " 'Python/Django Deployment',\n",
       " 'Responsive Design Testing with Playwright',\n",
       " 'Software Testing & Quality Assurance',\n",
       " 'The Why of Testing in Django',\n",
       " 'Web Development Concepts',\n",
       " 'Web Framework Errors Decorators',\n",
       " 'pytest-playwright Setup and Usage'}"
      ]
     },
     "execution_count": 2,
     "metadata": {},
     "output_type": "execute_result"
    }
   ],
   "source": [
    "import os\n",
    "import pandas as pd\n",
    "\n",
    "lpkl = []\n",
    "for root, dirs, files in os.walk('.'):\n",
    "    for file in files:\n",
    "        if file.endswith('.pkl'):\n",
    "            lpkl.append(os.path.join(root, file).replace(os.sep, '/'))\n",
    "\n",
    "df = pd.DataFrame()            \n",
    "for path in lpkl:\n",
    "    df_temp = pd.read_pickle(path)\n",
    "    df = pd.concat([df, df_temp], ignore_index=True)\n",
    "\n",
    "set_system_categories = set(df['system_category'].unique())\n",
    "set_system_categories"
   ]
  },
  {
   "cell_type": "code",
   "execution_count": null,
   "id": "426b4251",
   "metadata": {},
   "outputs": [
    {
     "name": "stdout",
     "output_type": "stream",
     "text": [
      "system_category\n",
      "Django Core & Fundamentals    176\n",
      "General & Foundational         70\n",
      "Name: count, dtype: int64\n",
      "system_category\n",
      "Django Testing                     339\n",
      "End-to-End Testing (Playwright)    145\n",
      "Name: count, dtype: int64\n",
      "system_category\n",
      "Django Core & Fundamentals                        427\n",
      "Django Frontend Integration (HTMX & Alpine.js)    199\n",
      "Deployment & DevOps (GCP Focus)                    49\n",
      "Name: count, dtype: int64\n",
      "system_category\n",
      "Deployment & DevOps (GCP Focus)    41\n",
      "Django Core & Fundamentals         28\n",
      "General & Foundational              1\n",
      "Name: count, dtype: int64\n",
      "system_category\n",
      "Deployment & DevOps (GCP Focus)    75\n",
      "Django Core & Fundamentals          2\n",
      "Name: count, dtype: int64\n"
     ]
    }
   ],
   "source": [
    "import pandas as pd\n",
    "system_categories = {\n",
    "    \"Django Core & Fundamentals\": [\n",
    "        'Django Fundamentals',\n",
    "        'Django Project Configuration',\n",
    "        'Django Infrastructure and Configuration',\n",
    "        'Django Models',\n",
    "        'Advanced Django Models',\n",
    "        'Django Models Admin Migrations',\n",
    "        'Django Views',\n",
    "        'Advanced Django Views',\n",
    "        'Django Templates',\n",
    "        'Django Forms',\n",
    "        'Django Forms: Validation',\n",
    "        'Django Authentication and Authorization',\n",
    "        'Django Authentication and Permissions',\n",
    "        'Django Static File Management',\n",
    "        'Web Framework Errors Decorators',\n",
    "    ],\n",
    "    \"Django Frontend Integration (HTMX & Alpine.js)\": [\n",
    "        'Alpine.js Fundamentals and Integration with Django/HTMX',\n",
    "        'Django HTMX Alpine.js Integration',\n",
    "        'Integrating HTMX with Django – The Basics',\n",
    "        'Advanced HTMX Patterns with Django',\n",
    "        'Advanced Alpine.js with Django  HTMX', # CORRECTED: Two spaces between Django and HTMX\n",
    "    ],\n",
    "    \"Django Testing\": [\n",
    "        'The Why of Testing in Django',\n",
    "        'Django Testing Pyramid',\n",
    "        'Organizing Django Tests',\n",
    "        'Django Testing Pitfall Avoidance',\n",
    "        'Django Pytest Basics',\n",
    "        'Pytest Fixtures',\n",
    "        'Pytest Test Execution Control',\n",
    "        'Django Model Testing with Pytest',\n",
    "        'Django View Testing',\n",
    "        'Django Form Testing',\n",
    "        'Django Test Database Management',\n",
    "        'Django Live Server Fixture',\n",
    "        'Advanced Django Testing',\n",
    "    ],\n",
    "    \"End-to-End Testing (Playwright)\": [\n",
    "        'pytest-playwright Setup and Usage',\n",
    "        'Playwright Locators',\n",
    "        'Playwright Page Interactions',\n",
    "        'Playwright Assertions',\n",
    "        'Playwright Dynamic Content and Waits',\n",
    "        'Responsive Design Testing with Playwright',\n",
    "    ],\n",
    "    \"Deployment & DevOps (GCP Focus)\": [\n",
    "        'Django Cloud Run Deployment',\n",
    "        'GCP Django Deployment',\n",
    "        'Django Cloud SQL Connection',\n",
    "        'Cloud Run Storage Secrets',\n",
    "        'Cloud Build and CI/CD',\n",
    "        'GCP Logging Monitoring',\n",
    "        'Python/Django Deployment',\n",
    "    ],\n",
    "    \"General & Foundational Programming\": [\n",
    "        'Python Programming (General)',\n",
    "        'Web Development Concepts',\n",
    "        'JavaScript & Frontend Development',\n",
    "        'Software Testing & Quality Assurance',\n",
    "    ]\n",
    "}\n",
    "\n",
    "\n",
    "dict_system_category = {}\n",
    "for category, topics in system_categories.items():\n",
    "    for topic in topics:\n",
    "        dict_system_category[topic] = category\n",
    "\n",
    "\n",
    "\n",
    "for pkl in lpkl:\n",
    "    df = pd.read_pickle(pkl)\n",
    "    df['system_category'] = df['system_category'].apply(lambda x: dict_system_category[x])\n",
    "    print(df['system_category'].value_counts())\n",
    "    # df.to_pickle(pkl, protocol=4)\n"
   ]
  },
  {
   "cell_type": "code",
   "execution_count": 7,
   "id": "55888849",
   "metadata": {},
   "outputs": [
    {
     "data": {
      "text/plain": [
       "system_category\n",
       "Django Core & Fundamentals                        633\n",
       "Django Testing                                    339\n",
       "Django Frontend Integration (HTMX & Alpine.js)    199\n",
       "Deployment & DevOps (GCP Focus)                   165\n",
       "End-to-End Testing (Playwright)                   145\n",
       "General & Foundational                             71\n",
       "Name: count, dtype: int64"
      ]
     },
     "execution_count": 7,
     "metadata": {},
     "output_type": "execute_result"
    }
   ],
   "source": [
    "df = pd.DataFrame()\n",
    "for pkl in lpkl:\n",
    "    df_temp = pd.read_pickle(pkl)\n",
    "    df = pd.concat([df, df_temp]).reset_index(drop=True)\n",
    "\n",
    "df['system_category'].value_counts()"
   ]
  },
  {
   "cell_type": "code",
   "execution_count": 8,
   "id": "1826ee01",
   "metadata": {},
   "outputs": [],
   "source": [
    "# replace \"General & Foundational\" in system_category with \"General & Foundational Programming\"\n",
    "\n",
    "import pandas as pd\n",
    "for pkl in lpkl:\n",
    "    df = pd.read_pickle(pkl)\n",
    "    df['system_category'] = df['system_category'].apply(lambda x: \"General & Foundational Programming\" if x.strip() == \"General & Foundational\" else x)\n",
    "    df.to_pickle(pkl, protocol=4)\n"
   ]
  },
  {
   "cell_type": "code",
   "execution_count": 9,
   "id": "11920179",
   "metadata": {},
   "outputs": [
    {
     "data": {
      "text/plain": [
       "system_category\n",
       "Django Core & Fundamentals                        633\n",
       "Django Testing                                    339\n",
       "Django Frontend Integration (HTMX & Alpine.js)    199\n",
       "Deployment & DevOps (GCP Focus)                   165\n",
       "End-to-End Testing (Playwright)                   145\n",
       "General & Foundational Programming                 71\n",
       "Name: count, dtype: int64"
      ]
     },
     "execution_count": 9,
     "metadata": {},
     "output_type": "execute_result"
    }
   ],
   "source": [
    "df = pd.DataFrame()\n",
    "for pkl in lpkl:\n",
    "    df_temp = pd.read_pickle(pkl)\n",
    "    df = pd.concat([df, df_temp]).reset_index(drop=True)\n",
    "\n",
    "df['system_category'].value_counts()"
   ]
  }
 ],
 "metadata": {
  "kernelspec": {
   "display_name": "Python 3",
   "language": "python",
   "name": "python3"
  },
  "language_info": {
   "codemirror_mode": {
    "name": "ipython",
    "version": 3
   },
   "file_extension": ".py",
   "mimetype": "text/x-python",
   "name": "python",
   "nbconvert_exporter": "python",
   "pygments_lexer": "ipython3",
   "version": "3.12.2"
  }
 },
 "nbformat": 4,
 "nbformat_minor": 5
}
