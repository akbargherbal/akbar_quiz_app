{
 "cells": [
  {
   "cell_type": "code",
   "execution_count": 1,
   "id": "b7e7692d",
   "metadata": {},
   "outputs": [],
   "source": [
    "import pandas as pd\n",
    "import regex as re\n",
    "import os"
   ]
  },
  {
   "cell_type": "code",
   "execution_count": 2,
   "id": "b0546d80",
   "metadata": {},
   "outputs": [],
   "source": [
    "df1 = pd.read_pickle('./650QA_QUIZ_BANK_01.pkl')\n",
    "df2 = pd.read_pickle('./70QA_QUIZ_BANK_02.pkl')"
   ]
  },
  {
   "cell_type": "code",
   "execution_count": 4,
   "id": "c16cb806",
   "metadata": {},
   "outputs": [
    {
     "data": {
      "text/html": [
       "<div>\n",
       "<style scoped>\n",
       "    .dataframe tbody tr th:only-of-type {\n",
       "        vertical-align: middle;\n",
       "    }\n",
       "\n",
       "    .dataframe tbody tr th {\n",
       "        vertical-align: top;\n",
       "    }\n",
       "\n",
       "    .dataframe thead th {\n",
       "        text-align: right;\n",
       "    }\n",
       "</style>\n",
       "<table border=\"1\" class=\"dataframe\">\n",
       "  <thead>\n",
       "    <tr style=\"text-align: right;\">\n",
       "      <th></th>\n",
       "      <th>chapter_no</th>\n",
       "      <th>question_text</th>\n",
       "      <th>options</th>\n",
       "      <th>answerIndex</th>\n",
       "      <th>tag</th>\n",
       "      <th>IDX</th>\n",
       "      <th>topic</th>\n",
       "    </tr>\n",
       "  </thead>\n",
       "  <tbody>\n",
       "    <tr>\n",
       "      <th>284</th>\n",
       "      <td>6</td>\n",
       "      <td>When integrating third-party libraries like Bo...</td>\n",
       "      <td>[Inside `{% comment %}` blocks to avoid render...</td>\n",
       "      <td>5</td>\n",
       "      <td>Static Assets Location</td>\n",
       "      <td>284</td>\n",
       "      <td>Templates</td>\n",
       "    </tr>\n",
       "  </tbody>\n",
       "</table>\n",
       "</div>"
      ],
      "text/plain": [
       "     chapter_no                                      question_text  \\\n",
       "284           6  When integrating third-party libraries like Bo...   \n",
       "\n",
       "                                               options  answerIndex  \\\n",
       "284  [Inside `{% comment %}` blocks to avoid render...            5   \n",
       "\n",
       "                        tag  IDX      topic  \n",
       "284  Static Assets Location  284  Templates  "
      ]
     },
     "execution_count": 4,
     "metadata": {},
     "output_type": "execute_result"
    }
   ],
   "source": [
    "def options_contain(list_options, substring=''):\n",
    "    substring = substring.lower()\n",
    "    for option in list_options:\n",
    "        if substring in option.lower():\n",
    "            return True\n",
    "    return False\n",
    "\n",
    "def question_contains(question, substring=''):\n",
    "    return substring in question.lower()\n",
    "\n",
    "df1[df1['options'].apply(options_contain, substring='just before the closing')]\n"
   ]
  },
  {
   "cell_type": "code",
   "execution_count": 5,
   "id": "e63ce3ad",
   "metadata": {},
   "outputs": [
    {
     "data": {
      "text/plain": [
       "['Inside `{% comment %}` blocks to avoid rendering.',\n",
       " 'Directly within the Django view functions.',\n",
       " 'Inline within the main content block of each child template.',\n",
       " 'Within custom template tags specifically designed for each library.',\n",
       " 'In the `` for CSS and just before the closing `` tag for JavaScript, typically within the base template.']"
      ]
     },
     "execution_count": 5,
     "metadata": {},
     "output_type": "execute_result"
    }
   ],
   "source": [
    "df1['options'].iloc[284]"
   ]
  },
  {
   "cell_type": "code",
   "execution_count": null,
   "id": "0f628913",
   "metadata": {},
   "outputs": [],
   "source": []
  }
 ],
 "metadata": {
  "kernelspec": {
   "display_name": "Python 3",
   "language": "python",
   "name": "python3"
  },
  "language_info": {
   "codemirror_mode": {
    "name": "ipython",
    "version": 3
   },
   "file_extension": ".py",
   "mimetype": "text/x-python",
   "name": "python",
   "nbconvert_exporter": "python",
   "pygments_lexer": "ipython3",
   "version": "3.12.2"
  }
 },
 "nbformat": 4,
 "nbformat_minor": 5
}
