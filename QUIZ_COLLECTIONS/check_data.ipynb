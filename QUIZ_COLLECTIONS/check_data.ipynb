{
 "cells": [
  {
   "cell_type": "code",
   "execution_count": 1,
   "id": "b7e7692d",
   "metadata": {},
   "outputs": [],
   "source": [
    "import pandas as pd\n",
    "import regex as re\n",
    "import os"
   ]
  },
  {
   "cell_type": "code",
   "execution_count": 2,
   "id": "ece1aa52",
   "metadata": {},
   "outputs": [
    {
     "name": "stdout",
     "output_type": "stream",
     "text": [
      "41\n"
     ]
    }
   ],
   "source": [
    "df = pd.read_pickle('./70QA_QUIZ_BANK_02.pkl')\n",
    "print(df['topic'].str.len().max())"
   ]
  },
  {
   "cell_type": "code",
   "execution_count": 3,
   "id": "47556f9c",
   "metadata": {},
   "outputs": [
    {
     "data": {
      "text/plain": [
       "set()"
      ]
     },
     "execution_count": 3,
     "metadata": {},
     "output_type": "execute_result"
    }
   ],
   "source": [
    "set(df[df['chapter_no']==11]['topic'])"
   ]
  },
  {
   "cell_type": "code",
   "execution_count": 4,
   "id": "2f9fa9d6",
   "metadata": {},
   "outputs": [],
   "source": [
    "test = df[df['topic'].apply(lambda x: (isinstance(x, str))==False)]"
   ]
  },
  {
   "cell_type": "code",
   "execution_count": 5,
   "id": "c81c7247",
   "metadata": {},
   "outputs": [],
   "source": [
    "def get_topic_name(current_topic):\n",
    "    if isinstance(current_topic, str):\n",
    "        return current_topic\n",
    "    else:\n",
    "        print(f\"Type: {type(current_topic)}\")\n",
    "        print(f\"Length: {len(current_topic)}\")\n",
    "        return current_topic[1]\n",
    "\n",
    "\n",
    "df['topic'] = df['topic'].apply(get_topic_name)\n",
    "    "
   ]
  },
  {
   "cell_type": "code",
   "execution_count": 6,
   "id": "1b981549",
   "metadata": {},
   "outputs": [],
   "source": [
    "# df.to_pickle('./650QA_QUIZ_BANK_01.pkl', protocol=4)"
   ]
  },
  {
   "cell_type": "code",
   "execution_count": 8,
   "id": "26d19212",
   "metadata": {},
   "outputs": [],
   "source": [
    "# df.to_pickle('./70QA_QUIZ_BANK_02.pkl', protocol=4)"
   ]
  },
  {
   "cell_type": "code",
   "execution_count": null,
   "id": "d012356a",
   "metadata": {},
   "outputs": [
    {
     "data": {
      "text/html": [
       "<div>\n",
       "<style scoped>\n",
       "    .dataframe tbody tr th:only-of-type {\n",
       "        vertical-align: middle;\n",
       "    }\n",
       "\n",
       "    .dataframe tbody tr th {\n",
       "        vertical-align: top;\n",
       "    }\n",
       "\n",
       "    .dataframe thead th {\n",
       "        text-align: right;\n",
       "    }\n",
       "</style>\n",
       "<table border=\"1\" class=\"dataframe\">\n",
       "  <thead>\n",
       "    <tr style=\"text-align: right;\">\n",
       "      <th></th>\n",
       "      <th>chapter_no</th>\n",
       "      <th>question_text</th>\n",
       "      <th>options</th>\n",
       "      <th>answerIndex</th>\n",
       "      <th>topic</th>\n",
       "      <th>chapter_title</th>\n",
       "    </tr>\n",
       "  </thead>\n",
       "  <tbody>\n",
       "    <tr>\n",
       "      <th>0</th>\n",
       "      <td>1</td>\n",
       "      <td>What is the primary benefit of using Google Cl...</td>\n",
       "      <td>[It integrates natively with Django's developm...</td>\n",
       "      <td>3</td>\n",
       "      <td>Django Cloud Run Benefit</td>\n",
       "      <td>Cloud Run 01</td>\n",
       "    </tr>\n",
       "    <tr>\n",
       "      <th>1</th>\n",
       "      <td>1</td>\n",
       "      <td>In a Dockerfile for a Django application, why ...</td>\n",
       "      <td>[It ensures Django will start properly since a...</td>\n",
       "      <td>4</td>\n",
       "      <td>Django Dockerfile Requirements Order</td>\n",
       "      <td>Cloud Run 01</td>\n",
       "    </tr>\n",
       "    <tr>\n",
       "      <th>2</th>\n",
       "      <td>1</td>\n",
       "      <td>When setting up a Django application for produ...</td>\n",
       "      <td>[It automatically compresses all static files,...</td>\n",
       "      <td>2</td>\n",
       "      <td>Django Cloud Run DEBUG False</td>\n",
       "      <td>Cloud Run 01</td>\n",
       "    </tr>\n",
       "    <tr>\n",
       "      <th>3</th>\n",
       "      <td>1</td>\n",
       "      <td>Which of the following is the correct command ...</td>\n",
       "      <td>[ENTRYPOINT [\"python\", \"manage.py\", \"collectst...</td>\n",
       "      <td>5</td>\n",
       "      <td>Django Dockerfile Collectstatic Command</td>\n",
       "      <td>Cloud Run 01</td>\n",
       "    </tr>\n",
       "    <tr>\n",
       "      <th>4</th>\n",
       "      <td>1</td>\n",
       "      <td>What is the purpose of using whitenoise in a D...</td>\n",
       "      <td>[It provides a required security layer between...</td>\n",
       "      <td>4</td>\n",
       "      <td>Django Cloud Run Whitenoise</td>\n",
       "      <td>Cloud Run 01</td>\n",
       "    </tr>\n",
       "    <tr>\n",
       "      <th>...</th>\n",
       "      <td>...</td>\n",
       "      <td>...</td>\n",
       "      <td>...</td>\n",
       "      <td>...</td>\n",
       "      <td>...</td>\n",
       "      <td>...</td>\n",
       "    </tr>\n",
       "    <tr>\n",
       "      <th>65</th>\n",
       "      <td>3</td>\n",
       "      <td>What is the difference between is_staff and is...</td>\n",
       "      <td>[is_staff allows viewing admin pages, while is...</td>\n",
       "      <td>2</td>\n",
       "      <td>Django User is_staff is_superuser</td>\n",
       "      <td>Essential Django Authentication and Authorization</td>\n",
       "    </tr>\n",
       "    <tr>\n",
       "      <th>66</th>\n",
       "      <td>3</td>\n",
       "      <td>Which class-based view is most appropriate for...</td>\n",
       "      <td>[SignupView, RegistrationView, CreateView, Use...</td>\n",
       "      <td>3</td>\n",
       "      <td>Django Registration Class View</td>\n",
       "      <td>Essential Django Authentication and Authorization</td>\n",
       "    </tr>\n",
       "    <tr>\n",
       "      <th>67</th>\n",
       "      <td>3</td>\n",
       "      <td>If a user is redirected to the login page by t...</td>\n",
       "      <td>[They are redirected to the homepage, They are...</td>\n",
       "      <td>5</td>\n",
       "      <td>Django login_required Redirect Behavior</td>\n",
       "      <td>Essential Django Authentication and Authorization</td>\n",
       "    </tr>\n",
       "    <tr>\n",
       "      <th>68</th>\n",
       "      <td>3</td>\n",
       "      <td>What's the best approach for implementing role...</td>\n",
       "      <td>[Assign individual permissions directly to eac...</td>\n",
       "      <td>4</td>\n",
       "      <td>Django Role Based Access</td>\n",
       "      <td>Essential Django Authentication and Authorization</td>\n",
       "    </tr>\n",
       "    <tr>\n",
       "      <th>69</th>\n",
       "      <td>3</td>\n",
       "      <td>What is Django's AnonymousUser and when is it ...</td>\n",
       "      <td>[A special user instance that AuthenticationMi...</td>\n",
       "      <td>1</td>\n",
       "      <td>Django AnonymousUser Purpose</td>\n",
       "      <td>Essential Django Authentication and Authorization</td>\n",
       "    </tr>\n",
       "  </tbody>\n",
       "</table>\n",
       "<p>70 rows × 6 columns</p>\n",
       "</div>"
      ],
      "text/plain": [
       "    chapter_no                                      question_text  \\\n",
       "0            1  What is the primary benefit of using Google Cl...   \n",
       "1            1  In a Dockerfile for a Django application, why ...   \n",
       "2            1  When setting up a Django application for produ...   \n",
       "3            1  Which of the following is the correct command ...   \n",
       "4            1  What is the purpose of using whitenoise in a D...   \n",
       "..         ...                                                ...   \n",
       "65           3  What is the difference between is_staff and is...   \n",
       "66           3  Which class-based view is most appropriate for...   \n",
       "67           3  If a user is redirected to the login page by t...   \n",
       "68           3  What's the best approach for implementing role...   \n",
       "69           3  What is Django's AnonymousUser and when is it ...   \n",
       "\n",
       "                                              options  answerIndex  \\\n",
       "0   [It integrates natively with Django's developm...            3   \n",
       "1   [It ensures Django will start properly since a...            4   \n",
       "2   [It automatically compresses all static files,...            2   \n",
       "3   [ENTRYPOINT [\"python\", \"manage.py\", \"collectst...            5   \n",
       "4   [It provides a required security layer between...            4   \n",
       "..                                                ...          ...   \n",
       "65  [is_staff allows viewing admin pages, while is...            2   \n",
       "66  [SignupView, RegistrationView, CreateView, Use...            3   \n",
       "67  [They are redirected to the homepage, They are...            5   \n",
       "68  [Assign individual permissions directly to eac...            4   \n",
       "69  [A special user instance that AuthenticationMi...            1   \n",
       "\n",
       "                                      topic  \\\n",
       "0                  Django Cloud Run Benefit   \n",
       "1      Django Dockerfile Requirements Order   \n",
       "2              Django Cloud Run DEBUG False   \n",
       "3   Django Dockerfile Collectstatic Command   \n",
       "4               Django Cloud Run Whitenoise   \n",
       "..                                      ...   \n",
       "65        Django User is_staff is_superuser   \n",
       "66           Django Registration Class View   \n",
       "67  Django login_required Redirect Behavior   \n",
       "68                 Django Role Based Access   \n",
       "69             Django AnonymousUser Purpose   \n",
       "\n",
       "                                        chapter_title  \n",
       "0                                        Cloud Run 01  \n",
       "1                                        Cloud Run 01  \n",
       "2                                        Cloud Run 01  \n",
       "3                                        Cloud Run 01  \n",
       "4                                        Cloud Run 01  \n",
       "..                                                ...  \n",
       "65  Essential Django Authentication and Authorization  \n",
       "66  Essential Django Authentication and Authorization  \n",
       "67  Essential Django Authentication and Authorization  \n",
       "68  Essential Django Authentication and Authorization  \n",
       "69  Essential Django Authentication and Authorization  \n",
       "\n",
       "[70 rows x 6 columns]"
      ]
     },
     "execution_count": 10,
     "metadata": {},
     "output_type": "execute_result"
    }
   ],
   "source": [
    "# pd.read_pickle('./70QA_QUIZ_BANK_02.pkl')"
   ]
  },
  {
   "cell_type": "code",
   "execution_count": 12,
   "id": "aba6a3ca",
   "metadata": {},
   "outputs": [
    {
     "data": {
      "text/plain": [
       "topic\n",
       "<class 'str'>    665\n",
       "Name: count, dtype: int64"
      ]
     },
     "execution_count": 12,
     "metadata": {},
     "output_type": "execute_result"
    }
   ],
   "source": [
    "df1 = pd.read_pickle('./650QA_QUIZ_BANK_01.pkl')\n",
    "df1['topic'].apply(lambda x: type(x)).value_counts()"
   ]
  },
  {
   "cell_type": "code",
   "execution_count": null,
   "id": "50ebe3ac",
   "metadata": {},
   "outputs": [],
   "source": []
  }
 ],
 "metadata": {
  "kernelspec": {
   "display_name": "Python 3",
   "language": "python",
   "name": "python3"
  },
  "language_info": {
   "codemirror_mode": {
    "name": "ipython",
    "version": 3
   },
   "file_extension": ".py",
   "mimetype": "text/x-python",
   "name": "python",
   "nbconvert_exporter": "python",
   "pygments_lexer": "ipython3",
   "version": "3.12.2"
  }
 },
 "nbformat": 4,
 "nbformat_minor": 5
}
