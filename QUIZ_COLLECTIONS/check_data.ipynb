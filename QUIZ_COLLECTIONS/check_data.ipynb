{
 "cells": [
  {
   "cell_type": "code",
   "execution_count": 1,
   "id": "b7e7692d",
   "metadata": {},
   "outputs": [],
   "source": [
    "import pandas as pd\n",
    "import regex as re\n",
    "import os"
   ]
  },
  {
   "cell_type": "code",
   "execution_count": 2,
   "id": "ece1aa52",
   "metadata": {},
   "outputs": [
    {
     "name": "stdout",
     "output_type": "stream",
     "text": [
      "38\n"
     ]
    }
   ],
   "source": [
    "df = pd.read_pickle('./650QA_QUIZ_BANK_01.pkl')\n",
    "print(df['topic'].str.len().max())"
   ]
  },
  {
   "cell_type": "code",
   "execution_count": 3,
   "id": "47556f9c",
   "metadata": {},
   "outputs": [
    {
     "data": {
      "text/plain": [
       "{'Alpine.js Accessibility',\n",
       " 'Alpine.js Character Count',\n",
       " 'Alpine.js Child Access Parent',\n",
       " 'Alpine.js Dispatch Event',\n",
       " 'Alpine.js Dynamic HTMX URL',\n",
       " 'Alpine.js External Communication',\n",
       " 'Alpine.js Focus Plugin',\n",
       " 'Alpine.js Form Validation',\n",
       " 'Alpine.js Get DOM Reference',\n",
       " 'Alpine.js Global State',\n",
       " 'Alpine.js HTMX Validation',\n",
       " 'Alpine.js Listen Custom Event',\n",
       " 'Alpine.js Magic Property Event',\n",
       " 'Alpine.js Manage Library',\n",
       " 'Alpine.js Organize State',\n",
       " 'Alpine.js Root Element Property',\n",
       " 'Alpine.js Toggle Modal',\n",
       " 'Alpine.js Trigger HTMX',\n",
       " 'Alpine.js Watch State Property',\n",
       " 'Alpine.js x-bind Class',\n",
       " 'Alpine.js x-cloak Directive',\n",
       " 'Alpine.js x-effect Directive',\n",
       " 'Alpine.js x-for Directive',\n",
       " 'Alpine.js x-for Item Access',\n",
       " 'Alpine.js x-model Directive',\n",
       " 'Alpine.js x-transition Usage',\n",
       " 'Alternative JS Frameworks Stack',\n",
       " 'Combining Django HTMX Alpine',\n",
       " 'Django Feature Reusable Alpine',\n",
       " 'Django HTMX Alpine Strength',\n",
       " 'Extend Alpine.js Functionality',\n",
       " 'HTMX Event Trigger Alpine',\n",
       " 'Initialize Alpine.js in Swap',\n",
       " 'Listen Global HTMX Event',\n",
       " 'Maintainability Django HTMX Alpine',\n",
       " 'Optimistic UI Updates',\n",
       " 'Testing Alpine HTMX Interaction',\n",
       " 'UI Logic Decision HTMX Alpine'}"
      ]
     },
     "execution_count": 3,
     "metadata": {},
     "output_type": "execute_result"
    }
   ],
   "source": [
    "set(df[df['chapter_no']==11]['topic'])"
   ]
  },
  {
   "cell_type": "code",
   "execution_count": 4,
   "id": "2f9fa9d6",
   "metadata": {},
   "outputs": [],
   "source": [
    "test = df[df['topic'].apply(lambda x: (isinstance(x, str))==False)]"
   ]
  },
  {
   "cell_type": "code",
   "execution_count": 5,
   "id": "c81c7247",
   "metadata": {},
   "outputs": [],
   "source": [
    "def get_topic_name(current_topic):\n",
    "    if isinstance(current_topic, str):\n",
    "        return current_topic\n",
    "    else:\n",
    "        print(f\"Type: {type(current_topic)}\")\n",
    "        print(f\"Length: {len(current_topic)}\")\n",
    "        return current_topic[1]\n",
    "\n",
    "\n",
    "df['topic'] = df['topic'].apply(get_topic_name)\n",
    "    "
   ]
  },
  {
   "cell_type": "code",
   "execution_count": 6,
   "id": "1b981549",
   "metadata": {},
   "outputs": [],
   "source": [
    "# df.to_pickle('./650QA_QUIZ_BANK_01.pkl', protocol=4)"
   ]
  },
  {
   "cell_type": "code",
   "execution_count": null,
   "id": "26d19212",
   "metadata": {},
   "outputs": [],
   "source": [
    "# df.to_pickle('./70QA_QUIZ_BANK_02.pkl', protocol=4)"
   ]
  }
 ],
 "metadata": {
  "kernelspec": {
   "display_name": "Python 3",
   "language": "python",
   "name": "python3"
  },
  "language_info": {
   "codemirror_mode": {
    "name": "ipython",
    "version": 3
   },
   "file_extension": ".py",
   "mimetype": "text/x-python",
   "name": "python",
   "nbconvert_exporter": "python",
   "pygments_lexer": "ipython3",
   "version": "3.12.2"
  }
 },
 "nbformat": 4,
 "nbformat_minor": 5
}
