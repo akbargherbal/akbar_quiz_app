{
 "cells": [
  {
   "cell_type": "code",
   "execution_count": 1,
   "id": "6b31c4f4",
   "metadata": {},
   "outputs": [],
   "source": [
    "import pandas as pd\n",
    "import regex as re\n",
    "import os"
   ]
  },
  {
   "cell_type": "code",
   "execution_count": 2,
   "id": "7beb2d89",
   "metadata": {},
   "outputs": [],
   "source": [
    "df1 = pd.read_pickle('./240_Understanding_QuizMaster_Codebase.pkl')\n",
    "df2 = pd.read_pickle('./70QA_QUIZ_BANK_02.pkl')\n",
    "df3 = pd.read_pickle('./77QA_GCP_ESSENTIALS_QUIZ_BANK.pkl')\n",
    "\n",
    "df3['chapter_title'].value_counts()\n",
    "\n",
    "# remove GCP General Topics \n",
    "\n",
    "df3 = df3[df3['chapter_title'].apply(lambda x: 'GCP General Topics'.strip().lower() not in \n",
    "                                  x.lower())].reset_index(drop=True)\n",
    "\n",
    "df3.to_pickle('./77QA_GCP_ESSENTIALS_QUIZ_BANK.pkl', protocol=4)"
   ]
  },
  {
   "cell_type": "code",
   "execution_count": 3,
   "id": "043db22f",
   "metadata": {},
   "outputs": [],
   "source": [
    "len(set(df1.columns)), len(set(df2.columns)), len(set(df3.columns))\n",
    "\n",
    "# assert identical columns in all\n",
    "assert set(df1.columns) == set(df2.columns) == set(df3.columns)\n"
   ]
  },
  {
   "cell_type": "code",
   "execution_count": null,
   "id": "af136804",
   "metadata": {},
   "outputs": [],
   "source": []
  }
 ],
 "metadata": {
  "kernelspec": {
   "display_name": "Python 3",
   "language": "python",
   "name": "python3"
  },
  "language_info": {
   "codemirror_mode": {
    "name": "ipython",
    "version": 3
   },
   "file_extension": ".py",
   "mimetype": "text/x-python",
   "name": "python",
   "nbconvert_exporter": "python",
   "pygments_lexer": "ipython3",
   "version": "3.12.2"
  }
 },
 "nbformat": 4,
 "nbformat_minor": 5
}
