{
 "cells": [
  {
   "cell_type": "code",
   "execution_count": 1,
   "id": "e48d385c",
   "metadata": {},
   "outputs": [],
   "source": [
    "import pandas as pd\n",
    "import regex as re\n",
    "import os"
   ]
  },
  {
   "cell_type": "code",
   "execution_count": null,
   "id": "5b8d06df",
   "metadata": {},
   "outputs": [],
   "source": [
    "\n",
    "df = pd.DataFrame()\n",
    "list_pkl = []\n",
    "for root, dirs, files in os.walk('.'):\n",
    "    for file in files:\n",
    "        if file.endswith('.pkl'):\n",
    "            list_pkl.append(os.path.join(root, file).replace(os.sep, '/'))\n",
    "\n",
    "for file in list_pkl:\n",
    "    df_temp = pd.read_pickle(file)\n",
    "    df = pd.concat([df, df_temp]).reset_index(drop=True)\n",
    "\n",
    "\n",
    "\n",
    "# df.to_pickle('./input_to_embeddings.pkl', protocol=4)\n"
   ]
  },
  {
   "cell_type": "code",
   "execution_count": null,
   "id": "05d94ff0",
   "metadata": {},
   "outputs": [],
   "source": []
  }
 ],
 "metadata": {
  "kernelspec": {
   "display_name": "Python 3",
   "language": "python",
   "name": "python3"
  },
  "language_info": {
   "codemirror_mode": {
    "name": "ipython",
    "version": 3
   },
   "file_extension": ".py",
   "mimetype": "text/x-python",
   "name": "python",
   "nbconvert_exporter": "python",
   "pygments_lexer": "ipython3",
   "version": "3.12.2"
  }
 },
 "nbformat": 4,
 "nbformat_minor": 5
}
