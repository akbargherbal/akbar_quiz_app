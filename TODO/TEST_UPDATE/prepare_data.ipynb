{
 "cells": [
  {
   "cell_type": "code",
   "execution_count": 2,
   "id": "8bfcb620",
   "metadata": {},
   "outputs": [],
   "source": [
    "import pandas as pd\n",
    "import regex as re\n",
    "import os\n",
    "from datetime import datetime"
   ]
  },
  {
   "cell_type": "code",
   "execution_count": 3,
   "id": "097efad1",
   "metadata": {},
   "outputs": [],
   "source": [
    "df = pd.read_pickle('./repo_files_dates.pkl')"
   ]
  },
  {
   "cell_type": "code",
   "execution_count": 10,
   "id": "ac97d355",
   "metadata": {},
   "outputs": [
    {
     "data": {
      "text/plain": [
       "['./src/multi_choice_quiz/test_runner.py',\n",
       " './src/run_multi_choice_quiz_e2e_tests.py',\n",
       " './src/multi_choice_quiz/management/commands/add_code_test_questions.py',\n",
       " './src/conftest.py',\n",
       " './src/run_pages_e2e_tests.py']"
      ]
     },
     "execution_count": 10,
     "metadata": {},
     "output_type": "execute_result"
    }
   ],
   "source": [
    "from pathlib import Path\n",
    "from datetime import datetime, timedelta, timezone # Import timezone\n",
    "df['file_name'] = df['file_path'].apply(lambda x: Path(x).name)\n",
    "df['parent_folder'] = df['file_path'].apply(lambda x: Path(x).parent.name)\n",
    "df['test_in_path'] = df['file_path'].apply(lambda x: 'test' in x.lower())\n",
    "test_files = df[df['test_in_path']==True].reset_index(drop=True)\n",
    "test_files['parent_folder'].value_counts()\n",
    "\n",
    "standalone_tests = test_files[test_files['parent_folder'] != 'tests'].reset_index(drop=True)\n",
    "\n",
    "# old test files; more than 12 days ago\n",
    "cond_01 = standalone_tests['last_modified_date'] < (datetime.now(timezone.utc) - timedelta(days=12))\n",
    "old_tests = standalone_tests[cond_01].reset_index(drop=True)\n",
    "old_tests['file_path'].to_list()\n"
   ]
  },
  {
   "cell_type": "code",
   "execution_count": null,
   "id": "cdc521fd",
   "metadata": {},
   "outputs": [],
   "source": []
  }
 ],
 "metadata": {
  "kernelspec": {
   "display_name": "Python 3",
   "language": "python",
   "name": "python3"
  },
  "language_info": {
   "codemirror_mode": {
    "name": "ipython",
    "version": 3
   },
   "file_extension": ".py",
   "mimetype": "text/x-python",
   "name": "python",
   "nbconvert_exporter": "python",
   "pygments_lexer": "ipython3",
   "version": "3.12.2"
  }
 },
 "nbformat": 4,
 "nbformat_minor": 5
}
