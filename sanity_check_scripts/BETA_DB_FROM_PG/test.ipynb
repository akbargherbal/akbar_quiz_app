{
 "cells": [
  {
   "cell_type": "code",
   "execution_count": null,
   "id": "3fb5b145",
   "metadata": {},
   "outputs": [],
   "source": [
    "#"
   ]
  },
  {
   "cell_type": "code",
   "execution_count": 1,
   "id": "9ae87f61",
   "metadata": {},
   "outputs": [],
   "source": [
    "import pandas as pd\n",
    "import regex as re\n",
    "import os"
   ]
  },
  {
   "cell_type": "code",
   "execution_count": 2,
   "id": "18044ac0",
   "metadata": {},
   "outputs": [
    {
     "data": {
      "text/html": [
       "<div>\n",
       "<style scoped>\n",
       "    .dataframe tbody tr th:only-of-type {\n",
       "        vertical-align: middle;\n",
       "    }\n",
       "\n",
       "    .dataframe tbody tr th {\n",
       "        vertical-align: top;\n",
       "    }\n",
       "\n",
       "    .dataframe thead th {\n",
       "        text-align: right;\n",
       "    }\n",
       "</style>\n",
       "<table border=\"1\" class=\"dataframe\">\n",
       "  <thead>\n",
       "    <tr style=\"text-align: right;\">\n",
       "      <th></th>\n",
       "      <th>id</th>\n",
       "      <th>text</th>\n",
       "      <th>chapter_no</th>\n",
       "      <th>tag</th>\n",
       "      <th>quiz_id</th>\n",
       "      <th>topic_id</th>\n",
       "      <th>created_at</th>\n",
       "    </tr>\n",
       "  </thead>\n",
       "  <tbody>\n",
       "    <tr>\n",
       "      <th>0</th>\n",
       "      <td>841</td>\n",
       "      <td>If an element has `hx-sync=\"this:drop\"`, how d...</td>\n",
       "      <td>7</td>\n",
       "      <td>hx-sync drop</td>\n",
       "      <td>48</td>\n",
       "      <td>41</td>\n",
       "      <td>2025-05-14 11:17:36.176159+00:00</td>\n",
       "    </tr>\n",
       "    <tr>\n",
       "      <th>1</th>\n",
       "      <td>842</td>\n",
       "      <td>What is a common and effective HTMX pattern fo...</td>\n",
       "      <td>7</td>\n",
       "      <td>Modals Closing</td>\n",
       "      <td>48</td>\n",
       "      <td>41</td>\n",
       "      <td>2025-05-14 11:17:36.176174+00:00</td>\n",
       "    </tr>\n",
       "    <tr>\n",
       "      <th>2</th>\n",
       "      <td>845</td>\n",
       "      <td>When implementing inline editing with HTMX, wh...</td>\n",
       "      <td>7</td>\n",
       "      <td>Edit Flow</td>\n",
       "      <td>48</td>\n",
       "      <td>41</td>\n",
       "      <td>2025-05-14 11:17:36.176222+00:00</td>\n",
       "    </tr>\n",
       "    <tr>\n",
       "      <th>3</th>\n",
       "      <td>846</td>\n",
       "      <td>When implementing dynamic tabs with HTMX, what...</td>\n",
       "      <td>7</td>\n",
       "      <td>Dynamic Tabs Targeting</td>\n",
       "      <td>48</td>\n",
       "      <td>41</td>\n",
       "      <td>2025-05-14 11:17:36.176237+00:00</td>\n",
       "    </tr>\n",
       "    <tr>\n",
       "      <th>4</th>\n",
       "      <td>956</td>\n",
       "      <td>If multiple decorators are applied to a single...</td>\n",
       "      <td>11</td>\n",
       "      <td>Decorator Order</td>\n",
       "      <td>55</td>\n",
       "      <td>48</td>\n",
       "      <td>2025-05-14 11:17:48.863916+00:00</td>\n",
       "    </tr>\n",
       "  </tbody>\n",
       "</table>\n",
       "</div>"
      ],
      "text/plain": [
       "    id                                               text  chapter_no  \\\n",
       "0  841  If an element has `hx-sync=\"this:drop\"`, how d...           7   \n",
       "1  842  What is a common and effective HTMX pattern fo...           7   \n",
       "2  845  When implementing inline editing with HTMX, wh...           7   \n",
       "3  846  When implementing dynamic tabs with HTMX, what...           7   \n",
       "4  956  If multiple decorators are applied to a single...          11   \n",
       "\n",
       "                      tag  quiz_id  topic_id                       created_at  \n",
       "0            hx-sync drop       48        41 2025-05-14 11:17:36.176159+00:00  \n",
       "1          Modals Closing       48        41 2025-05-14 11:17:36.176174+00:00  \n",
       "2               Edit Flow       48        41 2025-05-14 11:17:36.176222+00:00  \n",
       "3  Dynamic Tabs Targeting       48        41 2025-05-14 11:17:36.176237+00:00  \n",
       "4         Decorator Order       55        48 2025-05-14 11:17:48.863916+00:00  "
      ]
     },
     "execution_count": 2,
     "metadata": {},
     "output_type": "execute_result"
    }
   ],
   "source": [
    "pd.read_pickle('./USER_FEEDBACK.pkl')"
   ]
  },
  {
   "cell_type": "code",
   "execution_count": null,
   "id": "4d5673b8",
   "metadata": {},
   "outputs": [],
   "source": []
  }
 ],
 "metadata": {
  "kernelspec": {
   "display_name": "Python 3",
   "language": "python",
   "name": "python3"
  },
  "language_info": {
   "codemirror_mode": {
    "name": "ipython",
    "version": 3
   },
   "file_extension": ".py",
   "mimetype": "text/x-python",
   "name": "python",
   "nbconvert_exporter": "python",
   "pygments_lexer": "ipython3",
   "version": "3.12.2"
  }
 },
 "nbformat": 4,
 "nbformat_minor": 5
}
